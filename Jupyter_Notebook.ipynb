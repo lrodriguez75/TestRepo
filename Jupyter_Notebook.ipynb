{
 "cells": [
  {
   "cell_type": "markdown",
   "metadata": {},
   "source": [
    "<center>\n",
    "    <img src=\"https://s3-api.us-geo.objectstorage.softlayer.net/cf-courses-data/CognitiveClass/Logos/organization_logo/organization_logo.png\" width=\"300\" alt=\"cognitiveclass.ai logo\"  />\n",
    "</center>\n"
   ]
  },
  {
   "cell_type": "markdown",
   "metadata": {},
   "source": [
    "#### Add your code below following the instructions given in the course\n"
   ]
  },
  {
   "cell_type": "markdown",
   "metadata": {},
   "source": [
    "# My Jupyter Notebook on IBM Watson Studio"
   ]
  },
  {
   "cell_type": "markdown",
   "metadata": {},
   "source": [
    "My name is __Ludwing Erick Rodríguez Álvarez__ My actual position is Senior Data Engineer"
   ]
  },
  {
   "cell_type": "markdown",
   "metadata": {},
   "source": [
    "_I am interested in data sience because I believe that in these times it is very important for decision making, since many companies habe already achieved operational efficiency, but effectiveness can only be achieved with a good analysis of the information._\n",
    "\n",
    "_If an organization currently does not make an effort to analyze the information of its business environment, it will be difficult for it to take a good market share, it will hardly be able to take a good market share, that is where I find the importance of developing my professional skills to make better analyzes of information that can provide the data useful for decision making._"
   ]
  },
  {
   "cell_type": "markdown",
   "metadata": {},
   "source": [
    "## The next code calculate the difference between two numbers"
   ]
  },
  {
   "cell_type": "code",
   "execution_count": 1,
   "metadata": {},
   "outputs": [],
   "source": [
    "x = 15"
   ]
  },
  {
   "cell_type": "code",
   "execution_count": 2,
   "metadata": {},
   "outputs": [],
   "source": [
    "y = 30"
   ]
  },
  {
   "cell_type": "code",
   "execution_count": 4,
   "metadata": {},
   "outputs": [
    {
     "data": {
      "text/plain": [
       "-15"
      ]
     },
     "execution_count": 4,
     "metadata": {},
     "output_type": "execute_result"
    }
   ],
   "source": [
    "x - y"
   ]
  },
  {
   "cell_type": "markdown",
   "metadata": {},
   "source": [
    "<h2>This is the example that renders a bulleted list</h2>\n",
    "<ul>\n",
    "<li>This</li>\n",
    "<li>is</li>\n",
    "<li>my</li>\n",
    "<li>bulleted</li>\n",
    "<li>list</li>\n",
    "<li>example</li>\n",
    "</ul>"
   ]
  },
  {
   "cell_type": "markdown",
   "metadata": {},
   "source": [
    "<h2>This is the example that renders a numbered list</h2>\n",
    "<ol>\n",
    "<li>This</li>\n",
    "<li>is</li>\n",
    "<li>my</li>\n",
    "<li>numbered</li>\n",
    "<li>list</li>\n",
    "<li>example</li>\n",
    "</ol>"
   ]
  },
  {
   "cell_type": "markdown",
   "metadata": {},
   "source": [
    "## This is my table example\n",
    "### maded at two ways, phyton and html\n",
    "#### _The html way sometimes render at the bottom end of the page_ :(\n",
    "Column Header 1|Column Header 2|Column Header 3|Column Header 4\n",
    "---|---|---|---\n",
    "R1C1 DATA|R1C2 DATA|R1C3 DATA|R1C4 DATA\n",
    "R2C1 DATA|R2C2 DATA|R2C3 DATA|R2C4 DATA\n",
    "R3C1 DATA|R3C2 DATA|R3C3 DATA|R3C4 DATA\n",
    "R4C1 DATA|R4C2 DATA|R4C3 DATA|R4C4 DATA\n",
    "\n",
    "<p>\n",
    "    <table>\n",
    "        <tr>\n",
    "            <th>Column Header 1</th>\n",
    "            <th>Column Header 2</th>\n",
    "            <th>Column Header 3</th>\n",
    "            <th>Column Header 4</th>\n",
    "        </tr>\n",
    "        <tr>\n",
    "            <td>R1C1 DATA</td>\n",
    "            <td>R1C2 DATA</td>\n",
    "            <td>R1C3 DATA</td>\n",
    "            <td>R1C4 DATA</td>\n",
    "        </tr>\n",
    "        <tr>\n",
    "            <td>R2C1 DATA</td>\n",
    "            <td>R2C2 DATA</td>\n",
    "            <td>R2C3 DATA</td>\n",
    "            <td>R2C4 DATA</td>\n",
    "        </tr>\n",
    "        <tr>\n",
    "            <td>R3C1 DATA</td>\n",
    "            <td>R3C2 DATA</td>\n",
    "            <td>R3C3 DATA</td>\n",
    "            <td>R3C4 DATA</td>\n",
    "        </tr>        \n",
    "        <tr>\n",
    "            <td>R4C1 DATA</td>\n",
    "            <td>R4C2 DATA</td>\n",
    "            <td>R4C3 DATA</td>\n",
    "            <td>R4C4 DATA</td>\n",
    "        </tr>        \n",
    "    </table>\n",
    "</p>"
   ]
  },
  {
   "cell_type": "markdown",
   "metadata": {},
   "source": [
    "<h2>This is my hyperlink example</h2>\n",
    "<p>To know more about IBM Cloud click <a href=\"https://cloud.ibm.com/\">here!!!</a></p>"
   ]
  },
  {
   "cell_type": "markdown",
   "metadata": {},
   "source": [
    "<h2>This is my image insertion example</h2>\n",
    "<img src=\"https://jupyter.org/assets/homepage/main-logo.svg\" width=\"200\" height=\"200\">\n",
    "<img src=\"https://1.cms.s81c.com/sites/default/files/2021-03-08/why-watson-01-trust.png\" width=\"200\" height=\"200\">"
   ]
  },
  {
   "cell_type": "markdown",
   "metadata": {},
   "source": [
    "<h2>This is my highlight text example</h2>\n",
    "<p>Is very <mark>interesting</mark> trying to do <mark>this things</mark> in a <mark>Jupyter Notebook</mark></p>"
   ]
  },
  {
   "cell_type": "markdown",
   "metadata": {},
   "source": [
    "<h2>This is my blockquote example </h2>\n",
    "<p>You need to know this:<blockquote cite=\"https://www.ibm.com/watson/about\">\n",
    "    <h3>IBM Watson is AI for business.</h3>\n",
    "    <h4>Watson helps organizations predict future outcomes, automate complex processes, and optimize employees' time.</h4>\n",
    "    </blockquote>\n",
    "</p>\n"
   ]
  },
  {
   "cell_type": "markdown",
   "metadata": {},
   "source": [
    "<h2>This is my text strikethrough example</h2>\n",
    "<p>The truth are that you <strike>never</strike> always stop to think</p>"
   ]
  },
  {
   "cell_type": "code",
   "execution_count": null,
   "metadata": {},
   "outputs": [],
   "source": []
  }
 ],
 "metadata": {
  "kernelspec": {
   "display_name": "Python",
   "language": "python",
   "name": "conda-env-python-py"
  },
  "language_info": {
   "codemirror_mode": {
    "name": "ipython",
    "version": 3
   },
   "file_extension": ".py",
   "mimetype": "text/x-python",
   "name": "python",
   "nbconvert_exporter": "python",
   "pygments_lexer": "ipython3",
   "version": "3.7.12"
  }
 },
 "nbformat": 4,
 "nbformat_minor": 4
}
